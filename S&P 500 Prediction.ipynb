{
 "cells": [
  {
   "cell_type": "markdown",
   "metadata": {
    "collapsed": true
   },
   "source": [
    "# Predicting the S&P 500 based on Trends in Oil prices (WTI) and 10 year Treasury Bond Rates"
   ]
  },
  {
   "cell_type": "markdown",
   "metadata": {},
   "source": [
    " In this experiment, we will try to build a model that can predict the movement of S&P 500 based on corresponding price fluctuations in crude oil prices and treasury bonds interest rates. While stock market prediction is not a new endeavor, research of correlation of S&P 500 with prices of commodities (like crude oil) and indicators of inflation (like 10 year Bond rates) seems rare. \n",
    "\n",
    "In this exercise, we use publicly available information from the following sources to conduct this experiment: \n",
    "1. <a href=\"https://finance.yahoo.com/quote/%5EGSPC/history?p=%5EGSPC\"> Yahoo Finance </a> - S&P 500 historical data,\n",
    "2. <a href=\"https://fred.stlouisfed.org/series/DGS10\"> FRED Interest rates</a> - 10 Year Treasury constant maturity rate,\n",
    "3. <a href=\"https://fred.stlouisfed.org/series/DCOILWTICO\"> FRED Oil Prices</a> - WTI crude oil prices"
   ]
  },
  {
   "cell_type": "markdown",
   "metadata": {},
   "source": [
    "## 1. Data Preparation and Cleanup"
   ]
  },
  {
   "cell_type": "markdown",
   "metadata": {},
   "source": [
    "#### i. Load data"
   ]
  },
  {
   "cell_type": "markdown",
   "metadata": {},
   "source": [
    "Let us first load the S&P 500 dataset and see if we need to do any cleanup. "
   ]
  },
  {
   "cell_type": "code",
   "execution_count": 58,
   "metadata": {
    "collapsed": false
   },
   "outputs": [
    {
     "name": "stderr",
     "output_type": "stream",
     "text": [
      "Loading required package: lattice\n",
      "Loading required package: ggplot2\n",
      "Loading required package: MASS\n",
      "Loading required package: survival\n",
      "\n",
      "Attaching package: ‘survival’\n",
      "\n",
      "The following object is masked from ‘package:caret’:\n",
      "\n",
      "    cluster\n",
      "\n",
      "Loading required package: splines\n",
      "Loading required package: parallel\n",
      "Loaded gbm 2.1.3\n"
     ]
    }
   ],
   "source": [
    "library(\"caret\")\n",
    "library (\"e1071\")\n",
    "library (\"klaR\")\n",
    "library(\"rpart\")\n",
    "library(\"gbm\")"
   ]
  },
  {
   "cell_type": "code",
   "execution_count": 10,
   "metadata": {
    "collapsed": false
   },
   "outputs": [],
   "source": [
    "snp500 <- read.csv('s&p500_1990_2017.csv',skip = 0, header = T, as.is = T)"
   ]
  },
  {
   "cell_type": "code",
   "execution_count": 11,
   "metadata": {
    "collapsed": false
   },
   "outputs": [
    {
     "data": {
      "text/plain": [
       "     Date                Open             High             Low        \n",
       " Length:6881        Min.   : 295.4   Min.   : 301.4   Min.   : 294.5  \n",
       " Class :character   1st Qu.: 700.9   1st Qu.: 704.4   1st Qu.: 697.2  \n",
       " Mode  :character   Median :1144.0   Median :1150.6   Median :1135.9  \n",
       "                    Mean   :1120.8   Mean   :1127.6   Mean   :1113.6  \n",
       "                    3rd Qu.:1392.9   3rd Qu.:1401.8   3rd Qu.:1381.4  \n",
       "                    Max.   :2394.8   Max.   :2401.0   Max.   :2380.2  \n",
       "     Close            Volume            Adj.Close     \n",
       " Min.   : 295.5   Min.   :1.499e+07   Min.   : 295.5  \n",
       " 1st Qu.: 700.9   1st Qu.:4.476e+08   1st Qu.: 700.9  \n",
       " Median :1144.1   Median :1.439e+09   Median :1144.1  \n",
       " Mean   :1121.1   Mean   :2.055e+09   Mean   :1121.1  \n",
       " 3rd Qu.:1393.6   3rd Qu.:3.462e+09   3rd Qu.:1393.6  \n",
       " Max.   :2396.0   Max.   :1.146e+10   Max.   :2396.0  "
      ]
     },
     "metadata": {},
     "output_type": "display_data"
    }
   ],
   "source": [
    "summary(snp500)"
   ]
  },
  {
   "cell_type": "markdown",
   "metadata": {},
   "source": [
    "Observations: \n",
    "1. The date field is character type. We should convert it to Date. \n",
    "2. Since we are only interested with the closing price, we just need to consider the Adjusted close value (as this price considers any corporate actions as well). \n",
    "3. The distribution of the adjusted close price value ranges from 295.5 to 2396 over a period of about 27 years. Woah!"
   ]
  },
  {
   "cell_type": "code",
   "execution_count": 22,
   "metadata": {
    "collapsed": false
   },
   "outputs": [
    {
     "data": {
      "text/html": [
       "<table>\n",
       "<thead><tr><th scope=col>Date</th><th scope=col>snp_adj_close</th></tr></thead>\n",
       "<tbody>\n",
       "\t<tr><td>2017-04-21</td><td>2348.69   </td></tr>\n",
       "\t<tr><td>2017-04-20</td><td>2355.84   </td></tr>\n",
       "\t<tr><td>2017-04-19</td><td>2338.17   </td></tr>\n",
       "\t<tr><td>2017-04-18</td><td>2342.19   </td></tr>\n",
       "\t<tr><td>2017-04-17</td><td>2349.01   </td></tr>\n",
       "\t<tr><td>2017-04-13</td><td>2328.95   </td></tr>\n",
       "</tbody>\n",
       "</table>\n"
      ],
      "text/latex": [
       "\\begin{tabular}{r|ll}\n",
       " Date & snp\\_adj\\_close\\\\\n",
       "\\hline\n",
       "\t 2017-04-21 & 2348.69   \\\\\n",
       "\t 2017-04-20 & 2355.84   \\\\\n",
       "\t 2017-04-19 & 2338.17   \\\\\n",
       "\t 2017-04-18 & 2342.19   \\\\\n",
       "\t 2017-04-17 & 2349.01   \\\\\n",
       "\t 2017-04-13 & 2328.95   \\\\\n",
       "\\end{tabular}\n"
      ],
      "text/markdown": [
       "\n",
       "Date | snp_adj_close | \n",
       "|---|---|---|---|---|---|\n",
       "| 2017-04-21 | 2348.69    | \n",
       "| 2017-04-20 | 2355.84    | \n",
       "| 2017-04-19 | 2338.17    | \n",
       "| 2017-04-18 | 2342.19    | \n",
       "| 2017-04-17 | 2349.01    | \n",
       "| 2017-04-13 | 2328.95    | \n",
       "\n",
       "\n"
      ],
      "text/plain": [
       "  Date       snp_adj_close\n",
       "1 2017-04-21 2348.69      \n",
       "2 2017-04-20 2355.84      \n",
       "3 2017-04-19 2338.17      \n",
       "4 2017-04-18 2342.19      \n",
       "5 2017-04-17 2349.01      \n",
       "6 2017-04-13 2328.95      "
      ]
     },
     "metadata": {},
     "output_type": "display_data"
    }
   ],
   "source": [
    "# Change date to Date\n",
    "snp500$Date <- as.Date(snp500df$Date, '%Y-%m-%d')\n",
    "\n",
    "# Select only date and adjusted close value columns\n",
    "snp500 <- snp500[,c('Date', 'Adj.Close')]\n",
    "colnames(snp500)[2] <- 'snp_adj_close'\n",
    "\n",
    "head(snp500)"
   ]
  },
  {
   "cell_type": "markdown",
   "metadata": {},
   "source": [
    "Next, let us load the 10 year bond rates, and just as S&P500, we will only consider the date and adj. close columns"
   ]
  },
  {
   "cell_type": "code",
   "execution_count": 17,
   "metadata": {
    "collapsed": false
   },
   "outputs": [
    {
     "data": {
      "text/html": [
       "<table>\n",
       "<thead><tr><th scope=col>Date</th><th scope=col>bond10yr_adj_close</th></tr></thead>\n",
       "<tbody>\n",
       "\t<tr><td>2017-04-21</td><td>2.237     </td></tr>\n",
       "\t<tr><td>2017-04-20</td><td>2.241     </td></tr>\n",
       "\t<tr><td>2017-04-19</td><td>2.202     </td></tr>\n",
       "\t<tr><td>2017-04-18</td><td>2.179     </td></tr>\n",
       "\t<tr><td>2017-04-17</td><td>2.252     </td></tr>\n",
       "\t<tr><td>2017-04-13</td><td>2.232     </td></tr>\n",
       "</tbody>\n",
       "</table>\n"
      ],
      "text/latex": [
       "\\begin{tabular}{r|ll}\n",
       " Date & bond10yr\\_adj\\_close\\\\\n",
       "\\hline\n",
       "\t 2017-04-21 & 2.237     \\\\\n",
       "\t 2017-04-20 & 2.241     \\\\\n",
       "\t 2017-04-19 & 2.202     \\\\\n",
       "\t 2017-04-18 & 2.179     \\\\\n",
       "\t 2017-04-17 & 2.252     \\\\\n",
       "\t 2017-04-13 & 2.232     \\\\\n",
       "\\end{tabular}\n"
      ],
      "text/markdown": [
       "\n",
       "Date | bond10yr_adj_close | \n",
       "|---|---|---|---|---|---|\n",
       "| 2017-04-21 | 2.237      | \n",
       "| 2017-04-20 | 2.241      | \n",
       "| 2017-04-19 | 2.202      | \n",
       "| 2017-04-18 | 2.179      | \n",
       "| 2017-04-17 | 2.252      | \n",
       "| 2017-04-13 | 2.232      | \n",
       "\n",
       "\n"
      ],
      "text/plain": [
       "  Date       bond10yr_adj_close\n",
       "1 2017-04-21 2.237             \n",
       "2 2017-04-20 2.241             \n",
       "3 2017-04-19 2.202             \n",
       "4 2017-04-18 2.179             \n",
       "5 2017-04-17 2.252             \n",
       "6 2017-04-13 2.232             "
      ]
     },
     "metadata": {},
     "output_type": "display_data"
    }
   ],
   "source": [
    "bond10yr <- read.csv('10_Yr_Bond_rates.csv')\n",
    "bond10yr$Date <- as.Date(bond10yr$Date, '%Y-%m-%d')\n",
    "bond10yr <- bond10yr[,c('Date', 'Adj.Close')]\n",
    "colnames(bond10yr)[2] <- 'bond10yr_adj_close'\n",
    "head(bond10yr)"
   ]
  },
  {
   "cell_type": "markdown",
   "metadata": {},
   "source": [
    "Similarly, let us load the crude oil prices. We also rename the price column and convert it to numeric type."
   ]
  },
  {
   "cell_type": "code",
   "execution_count": 20,
   "metadata": {
    "collapsed": false
   },
   "outputs": [
    {
     "data": {
      "text/html": [
       "<table>\n",
       "<thead><tr><th scope=col>DATE</th><th scope=col>crude_oil_price_usd</th></tr></thead>\n",
       "<tbody>\n",
       "\t<tr><td>1990-01-02</td><td>1262      </td></tr>\n",
       "\t<tr><td>1990-01-03</td><td>1310      </td></tr>\n",
       "\t<tr><td>1990-01-04</td><td>1293      </td></tr>\n",
       "\t<tr><td>1990-01-05</td><td>1272      </td></tr>\n",
       "\t<tr><td>1990-01-08</td><td>1156      </td></tr>\n",
       "\t<tr><td>1990-01-09</td><td>1213      </td></tr>\n",
       "</tbody>\n",
       "</table>\n"
      ],
      "text/latex": [
       "\\begin{tabular}{r|ll}\n",
       " DATE & crude\\_oil\\_price\\_usd\\\\\n",
       "\\hline\n",
       "\t 1990-01-02 & 1262      \\\\\n",
       "\t 1990-01-03 & 1310      \\\\\n",
       "\t 1990-01-04 & 1293      \\\\\n",
       "\t 1990-01-05 & 1272      \\\\\n",
       "\t 1990-01-08 & 1156      \\\\\n",
       "\t 1990-01-09 & 1213      \\\\\n",
       "\\end{tabular}\n"
      ],
      "text/markdown": [
       "\n",
       "DATE | crude_oil_price_usd | \n",
       "|---|---|---|---|---|---|\n",
       "| 1990-01-02 | 1262       | \n",
       "| 1990-01-03 | 1310       | \n",
       "| 1990-01-04 | 1293       | \n",
       "| 1990-01-05 | 1272       | \n",
       "| 1990-01-08 | 1156       | \n",
       "| 1990-01-09 | 1213       | \n",
       "\n",
       "\n"
      ],
      "text/plain": [
       "  DATE       crude_oil_price_usd\n",
       "1 1990-01-02 1262               \n",
       "2 1990-01-03 1310               \n",
       "3 1990-01-04 1293               \n",
       "4 1990-01-05 1272               \n",
       "5 1990-01-08 1156               \n",
       "6 1990-01-09 1213               "
      ]
     },
     "metadata": {},
     "output_type": "display_data"
    }
   ],
   "source": [
    "crudeoil <- read.csv('DCOILWTICO.csv')\n",
    "crudeoil$DATE <- as.Date(crudeoil$DATE, '%Y-%m-%d')\n",
    "colnames(crudeoil)[2] <- 'crude_oil_price_usd'\n",
    "crudeoil$crude_oil_price_usd <- as.numeric(crudeoil$crude_oil_price_usd)\n",
    "head(crudeoil)"
   ]
  },
  {
   "cell_type": "markdown",
   "metadata": {},
   "source": [
    "#### ii. Check for missing values"
   ]
  },
  {
   "cell_type": "code",
   "execution_count": 23,
   "metadata": {
    "collapsed": false
   },
   "outputs": [
    {
     "data": {
      "text/html": [
       "<dl class=dl-horizontal>\n",
       "\t<dt>Date</dt>\n",
       "\t\t<dd>0</dd>\n",
       "\t<dt>snp_adj_close</dt>\n",
       "\t\t<dd>0</dd>\n",
       "</dl>\n"
      ],
      "text/latex": [
       "\\begin{description*}\n",
       "\\item[Date] 0\n",
       "\\item[snp\\textbackslash{}\\_adj\\textbackslash{}\\_close] 0\n",
       "\\end{description*}\n"
      ],
      "text/markdown": [
       "Date\n",
       ":   0snp_adj_close\n",
       ":   0\n",
       "\n"
      ],
      "text/plain": [
       "         Date snp_adj_close \n",
       "            0             0 "
      ]
     },
     "metadata": {},
     "output_type": "display_data"
    },
    {
     "data": {
      "text/html": [
       "<dl class=dl-horizontal>\n",
       "\t<dt>Date</dt>\n",
       "\t\t<dd>0</dd>\n",
       "\t<dt>bond10yr_adj_close</dt>\n",
       "\t\t<dd>0</dd>\n",
       "</dl>\n"
      ],
      "text/latex": [
       "\\begin{description*}\n",
       "\\item[Date] 0\n",
       "\\item[bond10yr\\textbackslash{}\\_adj\\textbackslash{}\\_close] 0\n",
       "\\end{description*}\n"
      ],
      "text/markdown": [
       "Date\n",
       ":   0bond10yr_adj_close\n",
       ":   0\n",
       "\n"
      ],
      "text/plain": [
       "              Date bond10yr_adj_close \n",
       "                 0                  0 "
      ]
     },
     "metadata": {},
     "output_type": "display_data"
    },
    {
     "data": {
      "text/html": [
       "<dl class=dl-horizontal>\n",
       "\t<dt>DATE</dt>\n",
       "\t\t<dd>0</dd>\n",
       "\t<dt>crude_oil_price_usd</dt>\n",
       "\t\t<dd>0</dd>\n",
       "</dl>\n"
      ],
      "text/latex": [
       "\\begin{description*}\n",
       "\\item[DATE] 0\n",
       "\\item[crude\\textbackslash{}\\_oil\\textbackslash{}\\_price\\textbackslash{}\\_usd] 0\n",
       "\\end{description*}\n"
      ],
      "text/markdown": [
       "DATE\n",
       ":   0crude_oil_price_usd\n",
       ":   0\n",
       "\n"
      ],
      "text/plain": [
       "               DATE crude_oil_price_usd \n",
       "                  0                   0 "
      ]
     },
     "metadata": {},
     "output_type": "display_data"
    }
   ],
   "source": [
    "colSums(is.na(snp500))\n",
    "colSums(is.na(bond10yr))\n",
    "colSums(is.na(crudeoil))"
   ]
  },
  {
   "cell_type": "markdown",
   "metadata": {},
   "source": [
    "No missing values. That's good. However, stock markets, commodity exchanges are not operational every day. Let us select only the common data points between the three datasets for the same dates and ignore other days. "
   ]
  },
  {
   "cell_type": "markdown",
   "metadata": {},
   "source": [
    "#### iii. Select common data points"
   ]
  },
  {
   "cell_type": "code",
   "execution_count": 28,
   "metadata": {
    "collapsed": false
   },
   "outputs": [
    {
     "data": {
      "text/html": [
       "<table>\n",
       "<thead><tr><th scope=col>Date</th><th scope=col>snp_adj_close</th><th scope=col>bond10yr_adj_close</th><th scope=col>crude_oil_price_usd</th></tr></thead>\n",
       "<tbody>\n",
       "\t<tr><td>2017-04-17</td><td>2349.01   </td><td>2.252     </td><td>2681      </td></tr>\n",
       "\t<tr><td>2017-04-13</td><td>2328.95   </td><td>2.232     </td><td>2702      </td></tr>\n",
       "\t<tr><td>2017-04-12</td><td>2344.93   </td><td>2.296     </td><td>2699      </td></tr>\n",
       "\t<tr><td>2017-04-11</td><td>2353.78   </td><td>2.298     </td><td>2710      </td></tr>\n",
       "\t<tr><td>2017-04-10</td><td>2357.16   </td><td>2.361     </td><td>2697      </td></tr>\n",
       "\t<tr><td>2017-04-07</td><td>2355.54   </td><td>2.373     </td><td>2667      </td></tr>\n",
       "</tbody>\n",
       "</table>\n"
      ],
      "text/latex": [
       "\\begin{tabular}{r|llll}\n",
       " Date & snp\\_adj\\_close & bond10yr\\_adj\\_close & crude\\_oil\\_price\\_usd\\\\\n",
       "\\hline\n",
       "\t 2017-04-17 & 2349.01    & 2.252      & 2681      \\\\\n",
       "\t 2017-04-13 & 2328.95    & 2.232      & 2702      \\\\\n",
       "\t 2017-04-12 & 2344.93    & 2.296      & 2699      \\\\\n",
       "\t 2017-04-11 & 2353.78    & 2.298      & 2710      \\\\\n",
       "\t 2017-04-10 & 2357.16    & 2.361      & 2697      \\\\\n",
       "\t 2017-04-07 & 2355.54    & 2.373      & 2667      \\\\\n",
       "\\end{tabular}\n"
      ],
      "text/markdown": [
       "\n",
       "Date | snp_adj_close | bond10yr_adj_close | crude_oil_price_usd | \n",
       "|---|---|---|---|---|---|\n",
       "| 2017-04-17 | 2349.01    | 2.252      | 2681       | \n",
       "| 2017-04-13 | 2328.95    | 2.232      | 2702       | \n",
       "| 2017-04-12 | 2344.93    | 2.296      | 2699       | \n",
       "| 2017-04-11 | 2353.78    | 2.298      | 2710       | \n",
       "| 2017-04-10 | 2357.16    | 2.361      | 2697       | \n",
       "| 2017-04-07 | 2355.54    | 2.373      | 2667       | \n",
       "\n",
       "\n"
      ],
      "text/plain": [
       "  Date       snp_adj_close bond10yr_adj_close crude_oil_price_usd\n",
       "1 2017-04-17 2349.01       2.252              2681               \n",
       "2 2017-04-13 2328.95       2.232              2702               \n",
       "3 2017-04-12 2344.93       2.296              2699               \n",
       "4 2017-04-11 2353.78       2.298              2710               \n",
       "5 2017-04-10 2357.16       2.361              2697               \n",
       "6 2017-04-07 2355.54       2.373              2667               "
      ]
     },
     "metadata": {},
     "output_type": "display_data"
    }
   ],
   "source": [
    "library(sqldf)\n",
    "merged_df <- sqldf('SELECT snp500.Date, snp_adj_close, bond10yr_adj_close, crude_oil_price_usd\n",
    "                   FROM snp500 \n",
    "                   INNER JOIN bond10yr ON (snp500.Date = bond10yr.Date)\n",
    "                   INNER JOIN crudeoil ON (snp500.Date = crudeoil.DATE)')\n",
    "\n",
    "head(merged_df)"
   ]
  },
  {
   "cell_type": "markdown",
   "metadata": {},
   "source": [
    "Finally, we have the dataset to work on. "
   ]
  },
  {
   "cell_type": "markdown",
   "metadata": {},
   "source": [
    "#### iv. Computing price change"
   ]
  },
  {
   "cell_type": "markdown",
   "metadata": {},
   "source": [
    "To figure out if crude oil prices and interest rates have any correlation with S&P 500 prices, we will first calculate the price changes between the current day and one, two, three, four and five days prior. In other words, we will use t-1, t-2, t-3, t-4, t-5 prices to predict the t prices. \n",
    "\n",
    "If prices for t is higher than t-1, then we will encode priceDir as 'Up' i.e price direction is positive. Otherwise, priceDir will be negative ('Down'). "
   ]
  },
  {
   "cell_type": "code",
   "execution_count": 89,
   "metadata": {
    "collapsed": false
   },
   "outputs": [],
   "source": [
    "# compute price change for snp500\n",
    "snp_pc1 = c(); snp_pc2= c(); snp_pc3 = c(); snp_pc4 = c(); snp_pc5 = c(); priceDir = c();\n",
    "for (i in 7:nrow(merged_df)){\n",
    "  snp_pc1[i] <- (merged_df$snp_adj_close[i - 1] - merged_df$snp_adj_close[i - 2]) / (merged_df$snp_adj_close[i - 1])\n",
    "  snp_pc2[i] <- (merged_df$snp_adj_close[i - 2] - merged_df$snp_adj_close[i - 3]) / (merged_df$snp_adj_close[i - 2])\n",
    "  snp_pc3[i] <- (merged_df$snp_adj_close[i - 3] - merged_df$snp_adj_close[i - 4]) / (merged_df$snp_adj_close[i - 3])\n",
    "  snp_pc4[i] <- (merged_df$snp_adj_close[i - 4] - merged_df$snp_adj_close[i - 5]) / (merged_df$snp_adj_close[i - 4])\n",
    "  snp_pc5[i] <- (merged_df$snp_adj_close[i - 5] - merged_df$snp_adj_close[i - 6]) / (merged_df$snp_adj_close[i - 5])\n",
    "  priceDir[i] <- ifelse((merged_df$snp_adj_close[i] - merged_df$snp_adj_close[i - 1]) > 0, 'Up', 'Down')\n",
    "}\n",
    "\n",
    "# compute price change for bond10yr\n",
    "bnd_pc1 = c(); bnd_pc2= c(); bnd_pc3 = c(); bnd_pc4 = c(); bnd_pc5 = c();\n",
    "for (i in 7:nrow(merged_df)){\n",
    "  bnd_pc1[i] <- (merged_df$bond10yr_adj_close[i - 1] - merged_df$bond10yr_adj_close[i - 2]) / (merged_df$bond10yr_adj_close[i - 1])\n",
    "  bnd_pc2[i] <- (merged_df$bond10yr_adj_close[i - 2] - merged_df$bond10yr_adj_close[i - 3]) / (merged_df$bond10yr_adj_close[i - 2])\n",
    "  bnd_pc3[i] <- (merged_df$bond10yr_adj_close[i - 3] - merged_df$bond10yr_adj_close[i - 4]) / (merged_df$bond10yr_adj_close[i - 3])\n",
    "  bnd_pc4[i] <- (merged_df$bond10yr_adj_close[i - 4] - merged_df$bond10yr_adj_close[i - 5]) / (merged_df$bond10yr_adj_close[i - 4])\n",
    "  bnd_pc5[i] <- (merged_df$bond10yr_adj_close[i - 5] - merged_df$bond10yr_adj_close[i - 6]) / (merged_df$bond10yr_adj_close[i - 5])\n",
    "}\n",
    "\n",
    "# compute price change for crude oil\n",
    "oil_pc1 = c(); oil_pc2= c(); oil_pc3 = c(); oil_pc4 = c(); oil_pc5 = c();\n",
    "for (i in 7:nrow(merged_df)){\n",
    "  oil_pc1[i] <- (merged_df$crude_oil_price_usd[i - 1] - merged_df$crude_oil_price_usd[i - 2]) / (merged_df$crude_oil_price_usd[i - 1])\n",
    "  oil_pc2[i] <- (merged_df$crude_oil_price_usd[i - 2] - merged_df$crude_oil_price_usd[i - 3]) / (merged_df$crude_oil_price_usd[i - 2])\n",
    "  oil_pc3[i] <- (merged_df$crude_oil_price_usd[i - 3] - merged_df$crude_oil_price_usd[i - 4]) / (merged_df$crude_oil_price_usd[i - 3])\n",
    "  oil_pc4[i] <- (merged_df$crude_oil_price_usd[i - 4] - merged_df$crude_oil_price_usd[i - 5]) / (merged_df$crude_oil_price_usd[i - 4])\n",
    "  oil_pc5[i] <- (merged_df$crude_oil_price_usd[i - 5] - merged_df$crude_oil_price_usd[i - 6]) / (merged_df$crude_oil_price_usd[i - 5])\n",
    "}"
   ]
  },
  {
   "cell_type": "markdown",
   "metadata": {},
   "source": [
    "Now that we have the changes, let us create some dummy variables to answer the question - Was the change good or bad. \n",
    "\n",
    "We will create 5 categories based on this logic:\n",
    "- Awful (Change <-1 standard deviation)\n",
    "- Bad (-1 stdev <= Change < -.3 stdev)\n",
    "- Unchanged( -.3 stdev <= Change < .3 stdev)\n",
    "- Good (.3 stdev <= Change < 1 stdev)\n",
    "- Great (Change >= 1 stdev)"
   ]
  },
  {
   "cell_type": "code",
   "execution_count": 90,
   "metadata": {
    "collapsed": true
   },
   "outputs": [],
   "source": [
    "# create categorical values for snp\n",
    "snp.sd1 = sd(snp_pc1)\n",
    "snp_cat1 = c(); snp_cat2= c(); snp_cat3 = c(); snp_cat4 = c(); snp_cat5 = c();\n",
    "for (i in 7:nrow(merged_df)){\n",
    "  \n",
    "  snp_cat1[i] = ifelse(snp_pc1[i] < -1 * snp.sd, 'awful', \n",
    "                       (ifelse((snp_pc1[i] >= -1 * snp.sd && snp_pc1[i] < -0.3 * snp.sd), 'Bad',\n",
    "                               (ifelse((snp_pc1[i] >= -0.3 * snp.sd && snp_pc1[i] < 0.3 * snp.sd), 'Unchanged',\n",
    "                                       (ifelse((snp_pc1[i] >= 0.3 * snp.sd && snp_pc1[i] < snp.sd), 'Good',\n",
    "                                               (ifelse((snp_pc1[i] >= snp.sd), 'Great', 'None')))))))))\n",
    "  snp_cat2[i] = ifelse(snp_pc2[i] < -1 * snp.sd, 'awful', \n",
    "                       (ifelse((snp_pc2[i] >= -1 * snp.sd && snp_pc2[i] < -0.3 * snp.sd), 'Bad',\n",
    "                               (ifelse((snp_pc2[i] >= -0.3 * snp.sd && snp_pc2[i] < 0.3 * snp.sd), 'Unchanged',\n",
    "                                       (ifelse((snp_pc2[i] >= 0.3 * snp.sd && snp_pc2[i] < snp.sd), 'Good',\n",
    "                                               (ifelse((snp_pc2[i] >= snp.sd), 'Great', 'None')))))))))\n",
    "  \n",
    "  snp_cat3[i] = ifelse(snp_pc3[i] < -1 * snp.sd, 'awful', \n",
    "                       (ifelse((snp_pc3[i] >= -1 * snp.sd && snp_pc3[i] < -0.3 * snp.sd), 'Bad',\n",
    "                               (ifelse((snp_pc3[i] >= -0.3 * snp.sd && snp_pc3[i] < 0.3 * snp.sd), 'Unchanged',\n",
    "                                       (ifelse((snp_pc3[i] >= 0.3 * snp.sd && snp_pc3[i] < snp.sd), 'Good',\n",
    "                                               (ifelse((snp_pc3[i] >= snp.sd), 'Great', 'None')))))))))\n",
    "  \n",
    "  snp_cat4[i] = ifelse(snp_pc4[i] < -1 * snp.sd, 'awful', \n",
    "                       (ifelse((snp_pc4[i] >= -1 * snp.sd && snp_pc4[i] < -0.3 * snp.sd), 'Bad',\n",
    "                               (ifelse((snp_pc4[i] >= -0.3 * snp.sd && snp_pc4[i] < 0.3 * snp.sd), 'Unchanged',\n",
    "                                       (ifelse((snp_pc4[i] >= 0.3 * snp.sd && snp_pc4[i] < snp.sd), 'Good',\n",
    "                                               (ifelse((snp_pc4[i] >= snp.sd), 'Great', 'None')))))))))\n",
    "  snp_cat5[i] = ifelse(snp_pc5[i] < -1 * snp.sd, 'awful', \n",
    "                       (ifelse((snp_pc5[i] >= -1 * snp.sd && snp_pc5[i] < -0.3 * snp.sd), 'Bad',\n",
    "                               (ifelse((snp_pc5[i] >= -0.3 * snp.sd && snp_pc5[i] < 0.3 * snp.sd), 'Unchanged',\n",
    "                                       (ifelse((snp_pc5[i] >= 0.3 * snp.sd && snp_pc5[i] < snp.sd), 'Good',\n",
    "                                               (ifelse((snp_pc5[i] >= snp.sd), 'Great', 'None')))))))))\n",
    "  \n",
    "  \n",
    "}\n",
    "\n",
    "# create categorical values for 10yrbond\n",
    "bnd.sd = sd(merged_df$bond10yr_adj_close)\n",
    "bnd_cat1 = c(); bnd_cat2= c(); bnd_cat3 = c(); bnd_cat4 = c(); bnd_cat5 = c();\n",
    "for (i in 7:nrow(merged_df)){\n",
    "  \n",
    "  bnd_cat1[i] = ifelse(bnd_pc1[i] < -1 * bnd.sd, 'awful', \n",
    "                       (ifelse((bnd_pc1[i] >= -1 * bnd.sd && bnd_pc1[i] < -0.3 * bnd.sd), 'Bad',\n",
    "                               (ifelse((bnd_pc1[i] >= -0.3 * bnd.sd && bnd_pc1[i] < 0.3 * bnd.sd), 'Unchanged',\n",
    "                                       (ifelse((bnd_pc1[i] >= 0.3 * bnd.sd && bnd_pc1[i] < bnd.sd), 'Good',\n",
    "                                               (ifelse((bnd_pc1[i] >= bnd.sd), 'Great', 'None')))))))))\n",
    "  bnd_cat2[i] = ifelse(bnd_pc2[i] < -1 * bnd.sd, 'awful', \n",
    "                       (ifelse((bnd_pc2[i] >= -1 * bnd.sd && bnd_pc2[i] < -0.3 * bnd.sd), 'Bad',\n",
    "                               (ifelse((bnd_pc2[i] >= -0.3 * bnd.sd && bnd_pc2[i] < 0.3 * bnd.sd), 'Unchanged',\n",
    "                                       (ifelse((bnd_pc2[i] >= 0.3 * bnd.sd && bnd_pc2[i] < bnd.sd), 'Good',\n",
    "                                               (ifelse((bnd_pc2[i] >= bnd.sd), 'Great', 'None')))))))))\n",
    "  \n",
    "  bnd_cat3[i] = ifelse(bnd_pc3[i] < -1 * bnd.sd, 'awful', \n",
    "                       (ifelse((bnd_pc3[i] >= -1 * bnd.sd && bnd_pc3[i] < -0.3 * bnd.sd), 'Bad',\n",
    "                               (ifelse((bnd_pc3[i] >= -0.3 * bnd.sd && bnd_pc3[i] < 0.3 * bnd.sd), 'Unchanged',\n",
    "                                       (ifelse((bnd_pc3[i] >= 0.3 * bnd.sd && bnd_pc3[i] < bnd.sd), 'Good',\n",
    "                                               (ifelse((bnd_pc3[i] >= bnd.sd), 'Great', 'None')))))))))\n",
    "  \n",
    "  bnd_cat4[i] = ifelse(bnd_pc4[i] < -1 * bnd.sd, 'awful', \n",
    "                       (ifelse((bnd_pc4[i] >= -1 * bnd.sd && bnd_pc4[i] < -0.3 * bnd.sd), 'Bad',\n",
    "                               (ifelse((bnd_pc4[i] >= -0.3 * bnd.sd && bnd_pc4[i] < 0.3 * bnd.sd), 'Unchanged',\n",
    "                                       (ifelse((bnd_pc4[i] >= 0.3 * bnd.sd && bnd_pc4[i] < bnd.sd), 'Good',\n",
    "                                               (ifelse((bnd_pc4[i] >= bnd.sd), 'Great', 'None')))))))))\n",
    "  bnd_cat5[i] = ifelse(bnd_pc5[i] < -1 * bnd.sd, 'awful', \n",
    "                       (ifelse((bnd_pc5[i] >= -1 * bnd.sd && bnd_pc5[i] < -0.3 * bnd.sd), 'Bad',\n",
    "                               (ifelse((bnd_pc5[i] >= -0.3 * bnd.sd && bnd_pc5[i] < 0.3 * bnd.sd), 'Unchanged',\n",
    "                                       (ifelse((bnd_pc5[i] >= 0.3 * bnd.sd && bnd_pc5[i] < bnd.sd), 'Good',\n",
    "                                               (ifelse((bnd_pc5[i] >= bnd.sd), 'Great', 'None')))))))))\n",
    "  \n",
    "}\n",
    "\n",
    "# create categorical values for 10yrbond\n",
    "oil.sd = sd(merged_df$crude_oil_price_usd)\n",
    "oil_cat1 = c(); oil_cat2= c(); oil_cat3 = c(); oil_cat4 = c(); oil_cat5 = c();\n",
    "for (i in 7:nrow(merged_df)){\n",
    "  \n",
    "  oil_cat1[i] = ifelse(oil_pc1[i] < -1 * oil.sd, 'awful', \n",
    "                       (ifelse((oil_pc1[i] >= -1 * oil.sd && oil_pc1[i] < -0.3 * oil.sd), 'Bad',\n",
    "                               (ifelse((oil_pc1[i] >= -0.3 * oil.sd && oil_pc1[i] < 0.3 * oil.sd), 'Unchanged',\n",
    "                                       (ifelse((oil_pc1[i] >= 0.3 * oil.sd && oil_pc1[i] < oil.sd), 'Good',\n",
    "                                               (ifelse((oil_pc1[i] >= oil.sd), 'Great', 'None')))))))))\n",
    "  oil_cat2[i] = ifelse(oil_pc2[i] < -1 * oil.sd, 'awful', \n",
    "                       (ifelse((oil_pc2[i] >= -1 * oil.sd && oil_pc2[i] < -0.3 * oil.sd), 'Bad',\n",
    "                               (ifelse((oil_pc2[i] >= -0.3 * oil.sd && oil_pc2[i] < 0.3 * oil.sd), 'Unchanged',\n",
    "                                       (ifelse((oil_pc2[i] >= 0.3 * oil.sd && oil_pc2[i] < oil.sd), 'Good',\n",
    "                                               (ifelse((oil_pc2[i] >= oil.sd), 'Great', 'None')))))))))\n",
    "  \n",
    "  oil_cat3[i] = ifelse(oil_pc3[i] < -1 * oil.sd, 'awful', \n",
    "                       (ifelse((oil_pc3[i] >= -1 * oil.sd && oil_pc3[i] < -0.3 * oil.sd), 'Bad',\n",
    "                               (ifelse((oil_pc3[i] >= -0.3 * oil.sd && oil_pc3[i] < 0.3 * oil.sd), 'Unchanged',\n",
    "                                       (ifelse((oil_pc3[i] >= 0.3 * oil.sd && oil_pc3[i] < oil.sd), 'Good',\n",
    "                                               (ifelse((oil_pc3[i] >= oil.sd), 'Great', 'None')))))))))\n",
    "  \n",
    "  oil_cat4[i] = ifelse(oil_pc4[i] < -1 * oil.sd, 'awful', \n",
    "                       (ifelse((oil_pc4[i] >= -1 * oil.sd && oil_pc4[i] < -0.3 * oil.sd), 'Bad',\n",
    "                               (ifelse((oil_pc4[i] >= -0.3 * oil.sd && oil_pc4[i] < 0.3 * oil.sd), 'Unchanged',\n",
    "                                       (ifelse((oil_pc4[i] >= 0.3 * oil.sd && oil_pc4[i] < oil.sd), 'Good',\n",
    "                                               (ifelse((oil_pc4[i] >= oil.sd), 'Great', 'None')))))))))\n",
    "  oil_cat5[i] = ifelse(oil_pc5[i] < -1 * oil.sd, 'awful', \n",
    "                       (ifelse((oil_pc5[i] >= -1 * oil.sd && oil_pc5[i] < -0.3 * oil.sd), 'Bad',\n",
    "                               (ifelse((oil_pc5[i] >= -0.3 * oil.sd && oil_pc5[i] < 0.3 * oil.sd), 'Unchanged',\n",
    "                                       (ifelse((oil_pc5[i] >= 0.3 * oil.sd && oil_pc5[i] < oil.sd), 'Good',\n",
    "                                               (ifelse((oil_pc5[i] >= oil.sd), 'Great', 'None')))))))))\n",
    "  \n",
    "}"
   ]
  },
  {
   "cell_type": "markdown",
   "metadata": {},
   "source": [
    "Now that we have the final categorical values to work on, let us merge all columns in a single data frame. We will also remove the first 7 rows as they will have null values. "
   ]
  },
  {
   "cell_type": "code",
   "execution_count": 91,
   "metadata": {
    "collapsed": false
   },
   "outputs": [
    {
     "data": {
      "text/html": [
       "<table>\n",
       "<thead><tr><th></th><th scope=col>priceDir</th><th scope=col>snp_cat1</th><th scope=col>snp_cat2</th><th scope=col>snp_cat3</th><th scope=col>snp_cat4</th><th scope=col>snp_cat5</th><th scope=col>bnd_cat1</th><th scope=col>bnd_cat2</th><th scope=col>bnd_cat3</th><th scope=col>bnd_cat4</th><th scope=col>bnd_cat5</th><th scope=col>oil_cat1</th><th scope=col>oil_cat2</th><th scope=col>oil_cat3</th><th scope=col>oil_cat4</th><th scope=col>oil_cat5</th></tr></thead>\n",
       "<tbody>\n",
       "\t<tr><th scope=row>7</th><td>Up       </td><td>Unchanged</td><td>Unchanged</td><td>Unchanged</td><td>Unchanged</td><td>Unchanged</td><td>Unchanged</td><td>Unchanged</td><td>Unchanged</td><td>Unchanged</td><td>Unchanged</td><td>Unchanged</td><td>Unchanged</td><td>Unchanged</td><td>Unchanged</td><td>Unchanged</td></tr>\n",
       "\t<tr><th scope=row>8</th><td>Down     </td><td>Unchanged</td><td>Unchanged</td><td>Unchanged</td><td>Unchanged</td><td>Unchanged</td><td>Unchanged</td><td>Unchanged</td><td>Unchanged</td><td>Unchanged</td><td>Unchanged</td><td>Unchanged</td><td>Unchanged</td><td>Unchanged</td><td>Unchanged</td><td>Unchanged</td></tr>\n",
       "\t<tr><th scope=row>9</th><td>Up       </td><td>Unchanged</td><td>Unchanged</td><td>Unchanged</td><td>Unchanged</td><td>Unchanged</td><td>Unchanged</td><td>Unchanged</td><td>Unchanged</td><td>Unchanged</td><td>Unchanged</td><td>Unchanged</td><td>Unchanged</td><td>Unchanged</td><td>Unchanged</td><td>Unchanged</td></tr>\n",
       "\t<tr><th scope=row>10</th><td>Down     </td><td>Unchanged</td><td>Unchanged</td><td>Unchanged</td><td>Unchanged</td><td>Unchanged</td><td>Unchanged</td><td>Unchanged</td><td>Unchanged</td><td>Unchanged</td><td>Unchanged</td><td>Unchanged</td><td>Unchanged</td><td>Unchanged</td><td>Unchanged</td><td>Unchanged</td></tr>\n",
       "\t<tr><th scope=row>11</th><td>Up       </td><td>Unchanged</td><td>Unchanged</td><td>Unchanged</td><td>Unchanged</td><td>Unchanged</td><td>Unchanged</td><td>Unchanged</td><td>Unchanged</td><td>Unchanged</td><td>Unchanged</td><td>Unchanged</td><td>Unchanged</td><td>Unchanged</td><td>Unchanged</td><td>Unchanged</td></tr>\n",
       "\t<tr><th scope=row>12</th><td>Up       </td><td>Unchanged</td><td>Unchanged</td><td>Unchanged</td><td>Unchanged</td><td>Unchanged</td><td>Unchanged</td><td>Unchanged</td><td>Unchanged</td><td>Unchanged</td><td>Unchanged</td><td>Unchanged</td><td>Unchanged</td><td>Unchanged</td><td>Unchanged</td><td>Unchanged</td></tr>\n",
       "</tbody>\n",
       "</table>\n"
      ],
      "text/latex": [
       "\\begin{tabular}{r|llllllllllllllll}\n",
       "  & priceDir & snp\\_cat1 & snp\\_cat2 & snp\\_cat3 & snp\\_cat4 & snp\\_cat5 & bnd\\_cat1 & bnd\\_cat2 & bnd\\_cat3 & bnd\\_cat4 & bnd\\_cat5 & oil\\_cat1 & oil\\_cat2 & oil\\_cat3 & oil\\_cat4 & oil\\_cat5\\\\\n",
       "\\hline\n",
       "\t7 & Up        & Unchanged & Unchanged & Unchanged & Unchanged & Unchanged & Unchanged & Unchanged & Unchanged & Unchanged & Unchanged & Unchanged & Unchanged & Unchanged & Unchanged & Unchanged\\\\\n",
       "\t8 & Down      & Unchanged & Unchanged & Unchanged & Unchanged & Unchanged & Unchanged & Unchanged & Unchanged & Unchanged & Unchanged & Unchanged & Unchanged & Unchanged & Unchanged & Unchanged\\\\\n",
       "\t9 & Up        & Unchanged & Unchanged & Unchanged & Unchanged & Unchanged & Unchanged & Unchanged & Unchanged & Unchanged & Unchanged & Unchanged & Unchanged & Unchanged & Unchanged & Unchanged\\\\\n",
       "\t10 & Down      & Unchanged & Unchanged & Unchanged & Unchanged & Unchanged & Unchanged & Unchanged & Unchanged & Unchanged & Unchanged & Unchanged & Unchanged & Unchanged & Unchanged & Unchanged\\\\\n",
       "\t11 & Up        & Unchanged & Unchanged & Unchanged & Unchanged & Unchanged & Unchanged & Unchanged & Unchanged & Unchanged & Unchanged & Unchanged & Unchanged & Unchanged & Unchanged & Unchanged\\\\\n",
       "\t12 & Up        & Unchanged & Unchanged & Unchanged & Unchanged & Unchanged & Unchanged & Unchanged & Unchanged & Unchanged & Unchanged & Unchanged & Unchanged & Unchanged & Unchanged & Unchanged\\\\\n",
       "\\end{tabular}\n"
      ],
      "text/markdown": [
       "\n",
       "| <!--/--> | priceDir | snp_cat1 | snp_cat2 | snp_cat3 | snp_cat4 | snp_cat5 | bnd_cat1 | bnd_cat2 | bnd_cat3 | bnd_cat4 | bnd_cat5 | oil_cat1 | oil_cat2 | oil_cat3 | oil_cat4 | oil_cat5 | \n",
       "|---|---|---|---|---|---|\n",
       "| 7 | Up        | Unchanged | Unchanged | Unchanged | Unchanged | Unchanged | Unchanged | Unchanged | Unchanged | Unchanged | Unchanged | Unchanged | Unchanged | Unchanged | Unchanged | Unchanged | \n",
       "| 8 | Down      | Unchanged | Unchanged | Unchanged | Unchanged | Unchanged | Unchanged | Unchanged | Unchanged | Unchanged | Unchanged | Unchanged | Unchanged | Unchanged | Unchanged | Unchanged | \n",
       "| 9 | Up        | Unchanged | Unchanged | Unchanged | Unchanged | Unchanged | Unchanged | Unchanged | Unchanged | Unchanged | Unchanged | Unchanged | Unchanged | Unchanged | Unchanged | Unchanged | \n",
       "| 10 | Down      | Unchanged | Unchanged | Unchanged | Unchanged | Unchanged | Unchanged | Unchanged | Unchanged | Unchanged | Unchanged | Unchanged | Unchanged | Unchanged | Unchanged | Unchanged | \n",
       "| 11 | Up        | Unchanged | Unchanged | Unchanged | Unchanged | Unchanged | Unchanged | Unchanged | Unchanged | Unchanged | Unchanged | Unchanged | Unchanged | Unchanged | Unchanged | Unchanged | \n",
       "| 12 | Up        | Unchanged | Unchanged | Unchanged | Unchanged | Unchanged | Unchanged | Unchanged | Unchanged | Unchanged | Unchanged | Unchanged | Unchanged | Unchanged | Unchanged | Unchanged | \n",
       "\n",
       "\n"
      ],
      "text/plain": [
       "   priceDir snp_cat1  snp_cat2  snp_cat3  snp_cat4  snp_cat5  bnd_cat1 \n",
       "7  Up       Unchanged Unchanged Unchanged Unchanged Unchanged Unchanged\n",
       "8  Down     Unchanged Unchanged Unchanged Unchanged Unchanged Unchanged\n",
       "9  Up       Unchanged Unchanged Unchanged Unchanged Unchanged Unchanged\n",
       "10 Down     Unchanged Unchanged Unchanged Unchanged Unchanged Unchanged\n",
       "11 Up       Unchanged Unchanged Unchanged Unchanged Unchanged Unchanged\n",
       "12 Up       Unchanged Unchanged Unchanged Unchanged Unchanged Unchanged\n",
       "   bnd_cat2  bnd_cat3  bnd_cat4  bnd_cat5  oil_cat1  oil_cat2  oil_cat3 \n",
       "7  Unchanged Unchanged Unchanged Unchanged Unchanged Unchanged Unchanged\n",
       "8  Unchanged Unchanged Unchanged Unchanged Unchanged Unchanged Unchanged\n",
       "9  Unchanged Unchanged Unchanged Unchanged Unchanged Unchanged Unchanged\n",
       "10 Unchanged Unchanged Unchanged Unchanged Unchanged Unchanged Unchanged\n",
       "11 Unchanged Unchanged Unchanged Unchanged Unchanged Unchanged Unchanged\n",
       "12 Unchanged Unchanged Unchanged Unchanged Unchanged Unchanged Unchanged\n",
       "   oil_cat4  oil_cat5 \n",
       "7  Unchanged Unchanged\n",
       "8  Unchanged Unchanged\n",
       "9  Unchanged Unchanged\n",
       "10 Unchanged Unchanged\n",
       "11 Unchanged Unchanged\n",
       "12 Unchanged Unchanged"
      ]
     },
     "metadata": {},
     "output_type": "display_data"
    }
   ],
   "source": [
    "# combine all the columns for the final time and remove the top 7 rows that have NA value for categories\n",
    "final_merged_df <- data.frame(priceDir, snp_cat1, snp_cat2, snp_cat3, snp_cat4, snp_cat5, bnd_cat1, bnd_cat2, bnd_cat3, bnd_cat4, bnd_cat5, oil_cat1, oil_cat2, oil_cat3, oil_cat4, oil_cat5 )\n",
    "final_merged_df <- tail(final_merged_df, -6)\n",
    "\n",
    "head(final_merged_df)"
   ]
  },
  {
   "cell_type": "markdown",
   "metadata": {},
   "source": [
    "## 2. Build a Predictive Model"
   ]
  },
  {
   "cell_type": "markdown",
   "metadata": {},
   "source": [
    "Using the dataset that we just prepared, let us build some models that can help us predict the S&P 500 based on the categories we built. We will built a 50:50% partition of train and test datasets that we will use to train and then test our model. "
   ]
  },
  {
   "cell_type": "code",
   "execution_count": 92,
   "metadata": {
    "collapsed": false
   },
   "outputs": [],
   "source": [
    "# partition dataset into training and test\n",
    "train <- final_merged_df[1:5131,]\n",
    "test <- final_merged_df[5132:nrow(final_merged_df),]"
   ]
  },
  {
   "cell_type": "markdown",
   "metadata": {},
   "source": [
    "#### i. Naive Bayes"
   ]
  },
  {
   "cell_type": "code",
   "execution_count": 93,
   "metadata": {
    "collapsed": false
   },
   "outputs": [
    {
     "data": {
      "text/plain": [
       " priceDir         snp_cat1         snp_cat2         snp_cat3   \n",
       " Down:2734   Unchanged:5131   Unchanged:5131   Unchanged:5131  \n",
       " Up  :2397                                                     \n",
       "                                                               \n",
       "      snp_cat4         snp_cat5         bnd_cat1         bnd_cat2   \n",
       " Unchanged:5131   Unchanged:5131   Unchanged:5131   Unchanged:5131  \n",
       "                                                                    \n",
       "                                                                    \n",
       "      bnd_cat3         bnd_cat4         bnd_cat5         oil_cat1   \n",
       " Unchanged:5131   Unchanged:5131   Unchanged:5131   awful    :  12  \n",
       "                                                    Bad      :   7  \n",
       "                                                    Unchanged:5112  \n",
       "      oil_cat2         oil_cat3         oil_cat4         oil_cat5   \n",
       " awful    :  12   awful    :  12   awful    :  12   awful    :  12  \n",
       " Bad      :   7   Bad      :   7   Bad      :   7   Bad      :   7  \n",
       " Unchanged:5112   Unchanged:5112   Unchanged:5112   Unchanged:5112  "
      ]
     },
     "metadata": {},
     "output_type": "display_data"
    }
   ],
   "source": [
    "summary(train)"
   ]
  },
  {
   "cell_type": "markdown",
   "metadata": {},
   "source": [
    "As we can observe, most of the observations come within the -0.3 and 0.3 standard deviations (Unchanged). As such, for now, let us only consider oil prices to predict the price direction."
   ]
  },
  {
   "cell_type": "code",
   "execution_count": 86,
   "metadata": {
    "collapsed": false
   },
   "outputs": [
    {
     "data": {
      "text/plain": [
       "      oil_cat1         oil_cat2         oil_cat3         oil_cat4   \n",
       " awful    :   0   awful    :   0   awful    :   0   awful    :   0  \n",
       " Bad      :   6   Bad      :   6   Bad      :   9   Bad      :   7  \n",
       " Good     :   6   Good     :   8   Good     :  10   Good     :  13  \n",
       " Great    :   0   Great    :   0   Great    :   0   Great    :   0  \n",
       " Unchanged:1699   Unchanged:1697   Unchanged:1692   Unchanged:1691  \n",
       "      oil_cat5   \n",
       " awful    :   0  \n",
       " Bad      :   9  \n",
       " Good     :  16  \n",
       " Great    :   0  \n",
       " Unchanged:1686  "
      ]
     },
     "metadata": {},
     "output_type": "display_data"
    }
   ],
   "source": [
    "# Modelling using NaiveBayes\n",
    "model.NB <- NaiveBayes(priceDir ~ oil_cat1 + oil_cat2 + oil_cat3 + oil_cat4 + oil_cat5 ,data=train)\n",
    "test <- test[c('oil_cat1','oil_cat2','oil_cat3','oil_cat4','oil_cat5')]\n",
    "#predictions <- predict(model.NB, test[])\n",
    "#confusionMatrix(test$priceDir, predictions$class)\n",
    "summary(test)"
   ]
  }
 ],
 "metadata": {
  "kernelspec": {
   "display_name": "R",
   "language": "R",
   "name": "ir"
  },
  "language_info": {
   "codemirror_mode": "r",
   "file_extension": ".r",
   "mimetype": "text/x-r-source",
   "name": "R",
   "pygments_lexer": "r",
   "version": "3.3.2"
  }
 },
 "nbformat": 4,
 "nbformat_minor": 2
}

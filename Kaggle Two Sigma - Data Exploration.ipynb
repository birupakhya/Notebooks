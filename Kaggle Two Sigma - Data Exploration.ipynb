{
 "cells": [
  {
   "cell_type": "code",
   "execution_count": 2,
   "metadata": {
    "collapsed": true
   },
   "outputs": [],
   "source": [
    "### Necessary libraries\n",
    "import pandas as pd\n",
    "import numpy as np\n",
    "import matplotlib.pyplot as plt\n",
    "import seaborn as sns\n",
    "\n",
    "%matplotlib inline\n",
    "### Seaborn style\n",
    "sns.set_style(\"whitegrid\")"
   ]
  },
  {
   "cell_type": "code",
   "execution_count": 3,
   "metadata": {
    "collapsed": false
   },
   "outputs": [
    {
     "data": {
      "text/html": [
       "<div>\n",
       "<table border=\"1\" class=\"dataframe\">\n",
       "  <thead>\n",
       "    <tr style=\"text-align: right;\">\n",
       "      <th></th>\n",
       "      <th>bathrooms</th>\n",
       "      <th>bedrooms</th>\n",
       "      <th>building_id</th>\n",
       "      <th>created</th>\n",
       "      <th>description</th>\n",
       "      <th>display_address</th>\n",
       "      <th>features</th>\n",
       "      <th>interest_level</th>\n",
       "      <th>latitude</th>\n",
       "      <th>listing_id</th>\n",
       "      <th>longitude</th>\n",
       "      <th>manager_id</th>\n",
       "      <th>photos</th>\n",
       "      <th>price</th>\n",
       "      <th>street_address</th>\n",
       "    </tr>\n",
       "  </thead>\n",
       "  <tbody>\n",
       "    <tr>\n",
       "      <th>10</th>\n",
       "      <td>1.5</td>\n",
       "      <td>3</td>\n",
       "      <td>53a5b119ba8f7b61d4e010512e0dfc85</td>\n",
       "      <td>2016-06-24 07:54:24</td>\n",
       "      <td>A Brand New 3 Bedroom 1.5 bath ApartmentEnjoy ...</td>\n",
       "      <td>Metropolitan Avenue</td>\n",
       "      <td>[]</td>\n",
       "      <td>medium</td>\n",
       "      <td>40.7145</td>\n",
       "      <td>7211212</td>\n",
       "      <td>-73.9425</td>\n",
       "      <td>5ba989232d0489da1b5f2c45f6688adc</td>\n",
       "      <td>[https://photos.renthop.com/2/7211212_1ed4542e...</td>\n",
       "      <td>3000</td>\n",
       "      <td>792 Metropolitan Avenue</td>\n",
       "    </tr>\n",
       "    <tr>\n",
       "      <th>10000</th>\n",
       "      <td>1.0</td>\n",
       "      <td>2</td>\n",
       "      <td>c5c8a357cba207596b04d1afd1e4f130</td>\n",
       "      <td>2016-06-12 12:19:27</td>\n",
       "      <td></td>\n",
       "      <td>Columbus Avenue</td>\n",
       "      <td>[Doorman, Elevator, Fitness Center, Cats Allow...</td>\n",
       "      <td>low</td>\n",
       "      <td>40.7947</td>\n",
       "      <td>7150865</td>\n",
       "      <td>-73.9667</td>\n",
       "      <td>7533621a882f71e25173b27e3139d83d</td>\n",
       "      <td>[https://photos.renthop.com/2/7150865_be3306c5...</td>\n",
       "      <td>5465</td>\n",
       "      <td>808 Columbus Avenue</td>\n",
       "    </tr>\n",
       "    <tr>\n",
       "      <th>100004</th>\n",
       "      <td>1.0</td>\n",
       "      <td>1</td>\n",
       "      <td>c3ba40552e2120b0acfc3cb5730bb2aa</td>\n",
       "      <td>2016-04-17 03:26:41</td>\n",
       "      <td>Top Top West Village location, beautiful Pre-w...</td>\n",
       "      <td>W 13 Street</td>\n",
       "      <td>[Laundry In Building, Dishwasher, Hardwood Flo...</td>\n",
       "      <td>high</td>\n",
       "      <td>40.7388</td>\n",
       "      <td>6887163</td>\n",
       "      <td>-74.0018</td>\n",
       "      <td>d9039c43983f6e564b1482b273bd7b01</td>\n",
       "      <td>[https://photos.renthop.com/2/6887163_de85c427...</td>\n",
       "      <td>2850</td>\n",
       "      <td>241 W 13 Street</td>\n",
       "    </tr>\n",
       "    <tr>\n",
       "      <th>100007</th>\n",
       "      <td>1.0</td>\n",
       "      <td>1</td>\n",
       "      <td>28d9ad350afeaab8027513a3e52ac8d5</td>\n",
       "      <td>2016-04-18 02:22:02</td>\n",
       "      <td>Building Amenities - Garage - Garden - fitness...</td>\n",
       "      <td>East 49th Street</td>\n",
       "      <td>[Hardwood Floors, No Fee]</td>\n",
       "      <td>low</td>\n",
       "      <td>40.7539</td>\n",
       "      <td>6888711</td>\n",
       "      <td>-73.9677</td>\n",
       "      <td>1067e078446a7897d2da493d2f741316</td>\n",
       "      <td>[https://photos.renthop.com/2/6888711_6e660cee...</td>\n",
       "      <td>3275</td>\n",
       "      <td>333 East 49th Street</td>\n",
       "    </tr>\n",
       "    <tr>\n",
       "      <th>100013</th>\n",
       "      <td>1.0</td>\n",
       "      <td>4</td>\n",
       "      <td>0</td>\n",
       "      <td>2016-04-28 01:32:41</td>\n",
       "      <td>Beautifully renovated 3 bedroom flex 4 bedroom...</td>\n",
       "      <td>West 143rd Street</td>\n",
       "      <td>[Pre-War]</td>\n",
       "      <td>low</td>\n",
       "      <td>40.8241</td>\n",
       "      <td>6934781</td>\n",
       "      <td>-73.9493</td>\n",
       "      <td>98e13ad4b495b9613cef886d79a6291f</td>\n",
       "      <td>[https://photos.renthop.com/2/6934781_1fa4b41a...</td>\n",
       "      <td>3350</td>\n",
       "      <td>500 West 143rd Street</td>\n",
       "    </tr>\n",
       "  </tbody>\n",
       "</table>\n",
       "</div>"
      ],
      "text/plain": [
       "        bathrooms  bedrooms                       building_id  \\\n",
       "10            1.5         3  53a5b119ba8f7b61d4e010512e0dfc85   \n",
       "10000         1.0         2  c5c8a357cba207596b04d1afd1e4f130   \n",
       "100004        1.0         1  c3ba40552e2120b0acfc3cb5730bb2aa   \n",
       "100007        1.0         1  28d9ad350afeaab8027513a3e52ac8d5   \n",
       "100013        1.0         4                                 0   \n",
       "\n",
       "                    created  \\\n",
       "10      2016-06-24 07:54:24   \n",
       "10000   2016-06-12 12:19:27   \n",
       "100004  2016-04-17 03:26:41   \n",
       "100007  2016-04-18 02:22:02   \n",
       "100013  2016-04-28 01:32:41   \n",
       "\n",
       "                                              description  \\\n",
       "10      A Brand New 3 Bedroom 1.5 bath ApartmentEnjoy ...   \n",
       "10000                                                       \n",
       "100004  Top Top West Village location, beautiful Pre-w...   \n",
       "100007  Building Amenities - Garage - Garden - fitness...   \n",
       "100013  Beautifully renovated 3 bedroom flex 4 bedroom...   \n",
       "\n",
       "            display_address  \\\n",
       "10      Metropolitan Avenue   \n",
       "10000       Columbus Avenue   \n",
       "100004          W 13 Street   \n",
       "100007     East 49th Street   \n",
       "100013    West 143rd Street   \n",
       "\n",
       "                                                 features interest_level  \\\n",
       "10                                                     []         medium   \n",
       "10000   [Doorman, Elevator, Fitness Center, Cats Allow...            low   \n",
       "100004  [Laundry In Building, Dishwasher, Hardwood Flo...           high   \n",
       "100007                          [Hardwood Floors, No Fee]            low   \n",
       "100013                                          [Pre-War]            low   \n",
       "\n",
       "        latitude  listing_id  longitude                        manager_id  \\\n",
       "10       40.7145     7211212   -73.9425  5ba989232d0489da1b5f2c45f6688adc   \n",
       "10000    40.7947     7150865   -73.9667  7533621a882f71e25173b27e3139d83d   \n",
       "100004   40.7388     6887163   -74.0018  d9039c43983f6e564b1482b273bd7b01   \n",
       "100007   40.7539     6888711   -73.9677  1067e078446a7897d2da493d2f741316   \n",
       "100013   40.8241     6934781   -73.9493  98e13ad4b495b9613cef886d79a6291f   \n",
       "\n",
       "                                                   photos  price  \\\n",
       "10      [https://photos.renthop.com/2/7211212_1ed4542e...   3000   \n",
       "10000   [https://photos.renthop.com/2/7150865_be3306c5...   5465   \n",
       "100004  [https://photos.renthop.com/2/6887163_de85c427...   2850   \n",
       "100007  [https://photos.renthop.com/2/6888711_6e660cee...   3275   \n",
       "100013  [https://photos.renthop.com/2/6934781_1fa4b41a...   3350   \n",
       "\n",
       "                 street_address  \n",
       "10      792 Metropolitan Avenue  \n",
       "10000       808 Columbus Avenue  \n",
       "100004          241 W 13 Street  \n",
       "100007     333 East 49th Street  \n",
       "100013    500 West 143rd Street  "
      ]
     },
     "execution_count": 3,
     "metadata": {},
     "output_type": "execute_result"
    }
   ],
   "source": [
    "### Let's import our data\n",
    "train_data = pd.read_json('../Kaggle/train.json')\n",
    "### and test if everything OK\n",
    "train_data.head()"
   ]
  },
  {
   "cell_type": "code",
   "execution_count": 4,
   "metadata": {
    "collapsed": false
   },
   "outputs": [
    {
     "data": {
      "text/plain": [
       "bathrooms          0\n",
       "bedrooms           0\n",
       "building_id        0\n",
       "created            0\n",
       "description        0\n",
       "display_address    0\n",
       "features           0\n",
       "interest_level     0\n",
       "latitude           0\n",
       "listing_id         0\n",
       "longitude          0\n",
       "manager_id         0\n",
       "photos             0\n",
       "price              0\n",
       "street_address     0\n",
       "dtype: int64"
      ]
     },
     "execution_count": 4,
     "metadata": {},
     "output_type": "execute_result"
    }
   ],
   "source": [
    "### ... check for NAs\n",
    "train_data.isnull().sum()"
   ]
  },
  {
   "cell_type": "code",
   "execution_count": null,
   "metadata": {
    "collapsed": true
   },
   "outputs": [],
   "source": [
    "### Target variable exploration\n",
    "sns.countplot(train_data.interest_level, order=['low', 'medium', 'high']);\n",
    "plt.xlabel('Interest Level');\n",
    "plt.ylabel('Number of occurrences');"
   ]
  },
  {
   "cell_type": "code",
   "execution_count": null,
   "metadata": {
    "collapsed": true
   },
   "outputs": [],
   "source": [
    "### Quantitative substitute of Interest Level\n",
    "train_data['interest'] = np.where(train_data.interest_level=='low', 0,\n",
    "                                  np.where(train_data.interest_level=='medium', 1, 2))"
   ]
  },
  {
   "cell_type": "code",
   "execution_count": null,
   "metadata": {
    "collapsed": true
   },
   "outputs": [],
   "source": [
    "### Bathrooms graphs\n",
    "fig = plt.figure(figsize=(12,12))\n",
    "### Number of occurrences\n",
    "sns.countplot(train_data.bathrooms, ax = plt.subplot(221));\n",
    "plt.xlabel('Number of Bathrooms');\n",
    "plt.ylabel('Number of occurrences');\n",
    "### Average number of Bathrooms per Interest Level\n",
    "sns.barplot(x='interest_level', y='bathrooms', data=train_data, order=['low', 'medium', 'high'],\n",
    "            ax = plt.subplot(222));\n",
    "plt.xlabel('Interest Level');\n",
    "plt.ylabel('Average Number of Bathrooms');\n",
    "### Average interest for every number of bathrooms\n",
    "sns.pointplot(x=\"bathrooms\", y=\"interest\", data=train_data, ax = plt.subplot(212));\n",
    "plt.xlabel('Number of Bathrooms');\n",
    "plt.ylabel('Average Interest');"
   ]
  },
  {
   "cell_type": "code",
   "execution_count": null,
   "metadata": {
    "collapsed": true
   },
   "outputs": [],
   "source": [
    "### Bedrooms graphs\n",
    "fig = plt.figure(figsize=(12,12))\n",
    "### Number of occurrences\n",
    "sns.countplot(train_data.bedrooms, ax = plt.subplot(221));\n",
    "plt.xlabel('Number of Bedrooms');\n",
    "plt.ylabel('Number of occurrences');\n",
    "### Average number of Bedrooms per Interest Level\n",
    "sns.barplot(x='interest_level', y='bedrooms', data=train_data, order=['low', 'medium', 'high'],\n",
    "            ax = plt.subplot(222));\n",
    "plt.xlabel('Interest Level');\n",
    "plt.ylabel('Average Number of Bedrooms');\n",
    "### Average interest for every number of bedrooms\n",
    "sns.pointplot(x=\"bedrooms\", y=\"interest\", data=train_data, ax = plt.subplot(212));\n",
    "plt.xlabel('Number of Bedrooms');\n",
    "plt.ylabel('Average Interest');"
   ]
  },
  {
   "cell_type": "code",
   "execution_count": null,
   "metadata": {
    "collapsed": true
   },
   "outputs": [],
   "source": [
    "### Most advertised buildings\n",
    "train_data.building_id.value_counts().nlargest(10)"
   ]
  },
  {
   "cell_type": "code",
   "execution_count": null,
   "metadata": {
    "collapsed": true
   },
   "outputs": [],
   "source": [
    "### Convertion to Python Date\n",
    "train_data.created = pd.to_datetime(train_data.created, format='%Y-%m-%d %H:%M:%S')"
   ]
  },
  {
   "cell_type": "code",
   "execution_count": null,
   "metadata": {
    "collapsed": true
   },
   "outputs": [],
   "source": [
    "### New Month, Day of Week and Hour Features\n",
    "train_data['month'] = train_data.created.dt.month\n",
    "train_data['day_of_week'] = train_data.created.dt.weekday_name\n",
    "train_data['hour'] = train_data.created.dt.hour"
   ]
  },
  {
   "cell_type": "code",
   "execution_count": null,
   "metadata": {
    "collapsed": true
   },
   "outputs": [],
   "source": [
    "### First date in DataFrame\n",
    "print('First advert created at {}'.format(train_data.created.nsmallest(1).values[0]))"
   ]
  },
  {
   "cell_type": "code",
   "execution_count": null,
   "metadata": {
    "collapsed": true
   },
   "outputs": [],
   "source": [
    "### Last date in DataFrame\n",
    "print('Last advert created at {}'.format(train_data.created.nlargest(1).values[0]))"
   ]
  },
  {
   "cell_type": "code",
   "execution_count": null,
   "metadata": {
    "collapsed": true
   },
   "outputs": [],
   "source": [
    "### Iterest per month\n",
    "fig = plt.figure(figsize=(12,6))\n",
    "ax = sns.countplot(x=\"month\", hue=\"interest_level\", hue_order=['low', 'medium', 'high'],\n",
    "                   data=train_data);\n",
    "plt.xlabel('Month');\n",
    "plt.ylabel('Number of occurrences')\n",
    "\n",
    "### Adding percents over bars\n",
    "height = [p.get_height() for p in ax.patches]\n",
    "ncol = int(len(height)/3)\n",
    "total = [height[i] + height[i + ncol] + height[i + 2*ncol] for i in range(ncol)] * 3\n",
    "for i, p in enumerate(ax.patches):    \n",
    "    ax.text(p.get_x()+p.get_width()/2,\n",
    "            height[i] + 50,\n",
    "            '{:1.0%}'.format(height[i]/total[i]),\n",
    "            ha=\"center\") \n"
   ]
  },
  {
   "cell_type": "code",
   "execution_count": null,
   "metadata": {
    "collapsed": true
   },
   "outputs": [],
   "source": [
    "### Iterest per Day of Week\n",
    "fig = plt.figure(figsize=(12,6))\n",
    "ax = sns.countplot(x=\"day_of_week\", hue=\"interest_level\",\n",
    "                   hue_order=['low', 'medium', 'high'], data=train_data,\n",
    "                   order=['Sunday', 'Monday', 'Tuesday', 'Wednesday', 'Thursday', 'Friday', 'Saturday']);\n",
    "plt.xlabel('Day of Week');\n",
    "plt.ylabel('Number of occurrences');\n",
    "\n",
    "### Adding percents over bars\n",
    "height = [p.get_height() for p in ax.patches]\n",
    "ncol = int(len(height)/3)\n",
    "total = [height[i] + height[i + ncol] + height[i + 2*ncol] for i in range(ncol)] * 3\n",
    "for i, p in enumerate(ax.patches):    \n",
    "    ax.text(p.get_x()+p.get_width()/2,\n",
    "            height[i] + 50,\n",
    "            '{:1.0%}'.format(height[i]/total[i]),\n",
    "            ha=\"center\") \n"
   ]
  },
  {
   "cell_type": "code",
   "execution_count": null,
   "metadata": {
    "collapsed": true
   },
   "outputs": [],
   "source": [
    "### Iterest per Day of Week\n",
    "fig = plt.figure(figsize=(12,6))\n",
    "sns.countplot(x=\"hour\", hue=\"interest_level\", hue_order=['low', 'medium', 'high'], data=train_data);\n",
    "plt.xlabel('Hour');\n",
    "plt.ylabel('Number of occurrences');"
   ]
  },
  {
   "cell_type": "code",
   "execution_count": null,
   "metadata": {
    "collapsed": true
   },
   "outputs": [],
   "source": [
    "### Number of unique Display Addresses\n",
    "print('Number of Unique Display Addresses is {}'.format(train_data.display_address.value_counts().shape[0]))"
   ]
  },
  {
   "cell_type": "code",
   "execution_count": null,
   "metadata": {
    "collapsed": true
   },
   "outputs": [],
   "source": [
    "### 15 most popular Display Addresses\n",
    "train_data.display_address.value_counts().nlargest(15)"
   ]
  },
  {
   "cell_type": "code",
   "execution_count": null,
   "metadata": {
    "collapsed": true
   },
   "outputs": [],
   "source": [
    "### Top 20 northernmost points\n",
    "train_data.latitude.nlargest(20)"
   ]
  },
  {
   "cell_type": "code",
   "execution_count": null,
   "metadata": {
    "collapsed": true
   },
   "outputs": [],
   "source": [
    "### Top 20 southernmost points\n",
    "train_data.latitude.nsmallest(20)"
   ]
  },
  {
   "cell_type": "code",
   "execution_count": null,
   "metadata": {
    "collapsed": true
   },
   "outputs": [],
   "source": [
    "### Top 20 easternmost points\n",
    "train_data.longitude.nlargest(20)"
   ]
  },
  {
   "cell_type": "code",
   "execution_count": null,
   "metadata": {
    "collapsed": true
   },
   "outputs": [],
   "source": [
    "### Top 20 westernmost points\n",
    "train_data.longitude.nsmallest(20)"
   ]
  },
  {
   "cell_type": "code",
   "execution_count": null,
   "metadata": {
    "collapsed": true
   },
   "outputs": [],
   "source": [
    "### Rent interest graph of New-York\n",
    "sns.lmplot(x=\"longitude\", y=\"latitude\", fit_reg=False, hue='interest_level',\n",
    "           hue_order=['low', 'medium', 'high'], size=9, scatter_kws={'alpha':0.4,'s':30},\n",
    "           data=train_data[(train_data.longitude>train_data.longitude.quantile(0.005))\n",
    "                           &(train_data.longitude<train_data.longitude.quantile(0.995))\n",
    "                           &(train_data.latitude>train_data.latitude.quantile(0.005))                           \n",
    "                           &(train_data.latitude<train_data.latitude.quantile(0.995))]);\n",
    "plt.xlabel('Longitude');\n",
    "plt.ylabel('Latitude');"
   ]
  },
  {
   "cell_type": "code",
   "execution_count": null,
   "metadata": {
    "collapsed": true
   },
   "outputs": [],
   "source": [
    "### Let's get a list of top 10 managers\n",
    "top10managers = train_data.manager_id.value_counts().nlargest(10).index.tolist()\n",
    "### ...and plot number of different Interest Level rental adverts for each of them\n",
    "fig = plt.figure(figsize=(12,6))\n",
    "ax = sns.countplot(x=\"manager_id\", hue=\"interest_level\",\n",
    "                   data=train_data[train_data.manager_id.isin(top10managers)]);\n",
    "plt.xlabel('Manager');\n",
    "plt.ylabel('Number of advert occurrences');\n",
    "### Manager_ids are too long. Let's remove them\n",
    "plt.tick_params(\n",
    "    axis='x',          # changes apply to the x-axis\n",
    "    which='both',      # both major and minor ticks are affected\n",
    "    bottom='off',      # ticks along the bottom edge are off\n",
    "    top='off',         # ticks along the top edge are off\n",
    "    labelbottom='off');\n",
    "\n",
    "### Adding percents over bars\n",
    "height = [0 if np.isnan(p.get_height()) else p.get_height() for p in ax.patches]\n",
    "ncol = int(len(height)/3)\n",
    "total = [height[i] + height[i + ncol] + height[i + 2*ncol] for i in range(ncol)] * 3\n",
    "for i, p in enumerate(ax.patches):    \n",
    "    ax.text(p.get_x()+p.get_width()/2,\n",
    "            height[i] + 20,\n",
    "            '{:1.0%}'.format(height[i]/total[i]),\n",
    "            ha=\"center\")"
   ]
  },
  {
   "cell_type": "code",
   "execution_count": null,
   "metadata": {
    "collapsed": true
   },
   "outputs": [],
   "source": [
    "### Getting number of photos\n",
    "train_data['photos_number'] = train_data.photos.str.len()"
   ]
  },
  {
   "cell_type": "code",
   "execution_count": null,
   "metadata": {
    "collapsed": true
   },
   "outputs": [],
   "source": [
    "### Number of photos graphs\n",
    "fig = plt.figure(figsize=(12,12))\n",
    "### Average number of Photos per Interest Level\n",
    "sns.barplot(x=\"interest_level\", y=\"photos_number\", order=['low', 'medium', 'high'],\n",
    "            data=train_data, ax=plt.subplot(221));\n",
    "plt.xlabel('Interest Level');\n",
    "plt.ylabel('Average Number of Photos');\n",
    "### Average interest for every number of photos\n",
    "sns.barplot(x=\"photos_number\", y=\"interest\", data=train_data, ax=plt.subplot(222));\n",
    "plt.xlabel('Number of Photos');\n",
    "plt.ylabel('Average Interest');\n",
    "### Number of occurrences\n",
    "sns.countplot(x='photos_number', hue='interest_level', hue_order=['low', 'medium', 'high'],\n",
    "              data=train_data, ax=plt.subplot(212));\n",
    "plt.xlabel('Number of Photos');\n",
    "plt.ylabel('Number of occurrences');"
   ]
  },
  {
   "cell_type": "code",
   "execution_count": null,
   "metadata": {
    "collapsed": true
   },
   "outputs": [],
   "source": [
    "### Price exploration\n",
    "fig = plt.figure(figsize=(12,12))\n",
    "### Price distribution\n",
    "sns.distplot(train_data.price[train_data.price<=train_data.price.quantile(0.99)], ax=plt.subplot(211));\n",
    "plt.xlabel('Price');\n",
    "plt.ylabel('Density');\n",
    "### Average Price per Interest Level\n",
    "sns.barplot(x=\"interest_level\", y=\"price\", order=['low', 'medium', 'high'],\n",
    "            data=train_data, ax=plt.subplot(223));\n",
    "plt.xlabel('Interest Level');\n",
    "plt.ylabel('Price');\n",
    "### Violinplot of price for every Interest Level\n",
    "sns.violinplot(x=\"interest_level\", y=\"price\", order=['low', 'medium', 'high'],\n",
    "               data=train_data[train_data.price<=train_data.price.quantile(0.99)],\n",
    "               ax=plt.subplot(224));\n",
    "plt.xlabel('Interest Level');\n",
    "plt.ylabel('Price');"
   ]
  }
 ],
 "metadata": {
  "kernelspec": {
   "display_name": "Python 3",
   "language": "python",
   "name": "python3"
  },
  "language_info": {
   "codemirror_mode": {
    "name": "ipython",
    "version": 3
   },
   "file_extension": ".py",
   "mimetype": "text/x-python",
   "name": "python",
   "nbconvert_exporter": "python",
   "pygments_lexer": "ipython3",
   "version": "3.6.0"
  }
 },
 "nbformat": 4,
 "nbformat_minor": 2
}
